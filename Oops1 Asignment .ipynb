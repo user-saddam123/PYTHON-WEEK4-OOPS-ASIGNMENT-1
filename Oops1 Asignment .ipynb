{
 "cells": [
  {
   "cell_type": "markdown",
   "id": "75013255-74b9-4930-b758-2248f024ec4e",
   "metadata": {},
   "source": [
    "OOPS ASSIGNMENT 1 FOR PW SKILLS ACEDMY BY-SADDAM ANSARI"
   ]
  },
  {
   "cell_type": "markdown",
   "id": "424e46fb-3e1f-454a-8f11-03192faba2be",
   "metadata": {},
   "source": [
    "Q1. Explain Class and Object with respect to Object-Oriented Programming. Give a suitable example."
   ]
  },
  {
   "cell_type": "code",
   "execution_count": 1,
   "id": "26756907-6136-41ae-83f8-b2670edac557",
   "metadata": {},
   "outputs": [],
   "source": [
    "#In object-oriented programming (OOP), a class is a blueprint or template that defines the characteristics and behaviors of a particular type of object"
   ]
  },
  {
   "cell_type": "code",
   "execution_count": 8,
   "id": "dcd13142-cf5b-49dd-b0c0-87b51204e716",
   "metadata": {},
   "outputs": [],
   "source": [
    "class student : #here are student is a class\n",
    "    def __init__(self,number,email,student_id):\n",
    "        self.number= number\n",
    "        self.email= email\n",
    "        self.student_id= student_id\n",
    "        \n",
    "    def student_details(self):\n",
    "        return self.student_id,self.number,self.email"
   ]
  },
  {
   "cell_type": "code",
   "execution_count": 9,
   "id": "4d09b0b1-e32d-455f-8018-db7363e11768",
   "metadata": {},
   "outputs": [],
   "source": [
    "sut = student(8292541852 , \"saddam@gmail.com\" , \"SS4\")"
   ]
  },
  {
   "cell_type": "code",
   "execution_count": 11,
   "id": "e140a954-39c0-4c73-9aef-401690e66813",
   "metadata": {},
   "outputs": [
    {
     "data": {
      "text/plain": [
       "('SS4', 8292541852, 'saddam@gmail.com')"
      ]
     },
     "execution_count": 11,
     "metadata": {},
     "output_type": "execute_result"
    }
   ],
   "source": [
    "sut.student_details() # here are sut is object of student"
   ]
  },
  {
   "cell_type": "code",
   "execution_count": null,
   "id": "de1f335d-7cdc-4abb-8cd5-a1863f2fc878",
   "metadata": {},
   "outputs": [],
   "source": []
  },
  {
   "cell_type": "markdown",
   "id": "61d7faed-2260-41de-9a1a-94d63079c62c",
   "metadata": {},
   "source": [
    "Q2. Name the four pillars of OOPs."
   ]
  },
  {
   "cell_type": "markdown",
   "id": "efc2fe3a-e1c7-4387-a39b-51ac312f10b2",
   "metadata": {},
   "source": [
    "The four pillars of OOPS is-\n",
    "1. Encapsulation\n",
    "2. Inheritance\n",
    "3. Polymorphism\n",
    "4. Abstraction"
   ]
  },
  {
   "cell_type": "code",
   "execution_count": null,
   "id": "a367d879-6ac8-4d28-ab23-5f54e67a8c3f",
   "metadata": {},
   "outputs": [],
   "source": []
  },
  {
   "cell_type": "markdown",
   "id": "77e98349-92ae-415f-b23f-e0450670994e",
   "metadata": {},
   "source": [
    "Q3. Explain why the __init__() function is used. Give a suitable example."
   ]
  },
  {
   "cell_type": "markdown",
   "id": "8643db19-502d-4ea1-be5f-d158731e5f86",
   "metadata": {},
   "source": [
    "The __init__() function is a special method in Python classes that is automatically called when an object is created from a class"
   ]
  },
  {
   "cell_type": "code",
   "execution_count": 27,
   "id": "bfa72c53-c937-4bbf-a2dd-d865558b67f0",
   "metadata": {},
   "outputs": [],
   "source": [
    "class data: \n",
    "    def __init__(self, name, age):\n",
    "        self.name = name\n",
    "        self.age = age\n",
    "        \n",
    "    def data_details(self):\n",
    "        return self.name, self.age"
   ]
  },
  {
   "cell_type": "code",
   "execution_count": 29,
   "id": "d6bb8945-b6c8-4686-8c35-01ae7eef0577",
   "metadata": {},
   "outputs": [],
   "source": [
    "saddam = data(\"Saddam_Ansari\",18)"
   ]
  },
  {
   "cell_type": "code",
   "execution_count": 30,
   "id": "e16f843b-50bb-47f0-8cac-3b00c10e990e",
   "metadata": {},
   "outputs": [
    {
     "data": {
      "text/plain": [
       "('Saddam_Ansari', 18)"
      ]
     },
     "execution_count": 30,
     "metadata": {},
     "output_type": "execute_result"
    }
   ],
   "source": [
    "saddam.data_details()"
   ]
  },
  {
   "cell_type": "code",
   "execution_count": null,
   "id": "1c835f6f-d7f8-4599-9fac-a38441b8d860",
   "metadata": {},
   "outputs": [],
   "source": []
  },
  {
   "cell_type": "markdown",
   "id": "7a676ebc-f182-430c-b48f-4687b350c720",
   "metadata": {},
   "source": [
    "Q4. Why self is used in OOPs?"
   ]
  },
  {
   "cell_type": "markdown",
   "id": "4e744179-7531-4118-8e19-7ec839110ffa",
   "metadata": {},
   "source": [
    "In object-oriented programming (OOP), the self parameter is used to refer to the current instance of a class. It acts as a reference to the object itself and allows access to its attributes and methods."
   ]
  },
  {
   "cell_type": "code",
   "execution_count": null,
   "id": "c6088ab1-de41-4ceb-abcb-d3cd1f6b1254",
   "metadata": {},
   "outputs": [],
   "source": []
  },
  {
   "cell_type": "markdown",
   "id": "b4a416d2-4848-4eee-8b1f-a1826bcd935d",
   "metadata": {},
   "source": [
    "Q5. What is inheritance? Give an example for each type of inheritance."
   ]
  },
  {
   "cell_type": "markdown",
   "id": "0ee10d9c-2edc-45ef-9faf-a6d2449fb439",
   "metadata": {},
   "source": [
    "Inheritance is a fundamental concept in object-oriented programming (OOP) that allows a class (child class or derived class) to inherit properties and behaviors from another class (parent class or base class)"
   ]
  },
  {
   "cell_type": "code",
   "execution_count": 31,
   "id": "5ba9bb61-40fe-4686-8180-d1c9a00d80df",
   "metadata": {},
   "outputs": [],
   "source": [
    "#single inheritance"
   ]
  },
  {
   "cell_type": "code",
   "execution_count": 36,
   "id": "fd475b30-3293-4331-a356-35ce9e93e0b5",
   "metadata": {},
   "outputs": [],
   "source": [
    "class tryy: # first here i creat a class its name is tryy\n",
    "    def tryy_math(self):\n",
    "        return \"Saddam this is a tryy for inheritance\""
   ]
  },
  {
   "cell_type": "code",
   "execution_count": 37,
   "id": "ff3edce1-f826-4ee7-88c0-729eac4e46a8",
   "metadata": {},
   "outputs": [],
   "source": [
    "class child_tryy(tryy): #then i create a second class thats a child of tryy class.\n",
    "    pass"
   ]
  },
  {
   "cell_type": "code",
   "execution_count": 38,
   "id": "cd454abd-ee69-45e2-9524-8f61cdd89d8d",
   "metadata": {},
   "outputs": [],
   "source": [
    "obj_child_tryy = child_tryy() #  i assign a another value of class child_tryy thats is obj_child_tryy"
   ]
  },
  {
   "cell_type": "code",
   "execution_count": 35,
   "id": "2888b355-714f-4357-b847-c481efa82691",
   "metadata": {},
   "outputs": [
    {
     "data": {
      "text/plain": [
       "'Saddam this is a tryy for inheritance'"
      ]
     },
     "execution_count": 35,
     "metadata": {},
     "output_type": "execute_result"
    }
   ],
   "source": [
    "obj_child_tryy.tryy_math() # when i call to my o"
   ]
  },
  {
   "cell_type": "code",
   "execution_count": null,
   "id": "14d9f209-56ef-4bbd-be5d-0197ba6f4c16",
   "metadata": {},
   "outputs": [],
   "source": []
  }
 ],
 "metadata": {
  "kernelspec": {
   "display_name": "Python 3 (ipykernel)",
   "language": "python",
   "name": "python3"
  },
  "language_info": {
   "codemirror_mode": {
    "name": "ipython",
    "version": 3
   },
   "file_extension": ".py",
   "mimetype": "text/x-python",
   "name": "python",
   "nbconvert_exporter": "python",
   "pygments_lexer": "ipython3",
   "version": "3.10.8"
  }
 },
 "nbformat": 4,
 "nbformat_minor": 5
}
